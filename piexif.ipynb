{
 "cells": [
  {
   "cell_type": "markdown",
   "metadata": {},
   "source": [
    "## Piexif\n",
    "\n",
    "結論から言うと、Piexifは扱いにくいです！"
   ]
  },
  {
   "cell_type": "code",
   "execution_count": 1,
   "metadata": {},
   "outputs": [],
   "source": [
    "import piexif\n",
    "import os"
   ]
  },
  {
   "cell_type": "markdown",
   "metadata": {},
   "source": [
    "### EXIF情報の閲覧\n",
    "\n",
    "以下のコードでEXIF情報が閲覧できます。"
   ]
  },
  {
   "cell_type": "code",
   "execution_count": null,
   "metadata": {},
   "outputs": [],
   "source": [
    "filename = \"image/piexif.jpg\"\n",
    "exif_dict = piexif.load(filename)\n",
    "\n",
    "# サムネイル作成\n",
    "# thumbnail = exif_dict.pop('thumbnail')\n",
    "# if thumbnail is not None:\n",
    "#     with open(f\"{os.path.splitext(filename)[0]}_thumb{os.path.splitext(filename)[1]}\", \"wb+\") as f:\n",
    "#         f.write(thumbnail)\n",
    "\n",
    "for ifd_name in exif_dict:\n",
    "    print(\"\\n{0} IFD:\".format(ifd_name))\n",
    "    for key in exif_dict[ifd_name]:\n",
    "        try:\n",
    "            print(key, exif_dict[ifd_name][key][:10])\n",
    "        except:\n",
    "            print(key, exif_dict[ifd_name][key])"
   ]
  },
  {
   "cell_type": "markdown",
   "metadata": {},
   "source": [
    "### EXIF情報の削除\n",
    "\n",
    "`piexif.remove(filename)` を実行すると、画像のEXIF情報は全て削除されます。\n",
    "したがって、向きを示すEXIF情報(`Orientation`)も削除され、縦向きの画像も横向きになります。\n",
    "また、一部画像のEXIF情報は削除できないとの噂もあります。"
   ]
  },
  {
   "cell_type": "code",
   "execution_count": null,
   "metadata": {},
   "outputs": [],
   "source": [
    "piexif.remove('image/piexif.jpg')"
   ]
  }
 ],
 "metadata": {
  "kernelspec": {
   "display_name": "Python 3",
   "language": "python",
   "name": "python3"
  },
  "language_info": {
   "codemirror_mode": {
    "name": "ipython",
    "version": 3
   },
   "file_extension": ".py",
   "mimetype": "text/x-python",
   "name": "python",
   "nbconvert_exporter": "python",
   "pygments_lexer": "ipython3",
   "version": "3.6.3"
  }
 },
 "nbformat": 4,
 "nbformat_minor": 2
}
