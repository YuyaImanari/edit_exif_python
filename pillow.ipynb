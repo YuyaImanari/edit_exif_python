{
 "cells": [
  {
   "cell_type": "markdown",
   "metadata": {},
   "source": [
    "## Pillow\n",
    "\n",
    "画像データのみを抜き出せる！"
   ]
  },
  {
   "cell_type": "code",
   "execution_count": 1,
   "metadata": {},
   "outputs": [],
   "source": [
    "import os\n",
    "from pprint import pprint\n",
    "from PIL import Image\n",
    "from PIL.ExifTags import TAGS\n",
    "\n",
    "filename_input = 'image/pillow.png'\n",
    "filename_output = f'{os.path.splitext(filename_input)[0]}_out{os.path.splitext(filename_input)[1]}'"
   ]
  },
  {
   "cell_type": "markdown",
   "metadata": {},
   "source": [
    "### 画像の取得"
   ]
  },
  {
   "cell_type": "code",
   "execution_count": 2,
   "metadata": {},
   "outputs": [
    {
     "name": "stdout",
     "output_type": "stream",
     "text": [
      "元の画像ファイルサイズ : 17418761 バイト\n"
     ]
    }
   ],
   "source": [
    "with Image.open(filename_input) as src:\n",
    "    data = src.getdata()\n",
    "    mode = src.mode\n",
    "    size = src.size\n",
    "    print(f'元の画像ファイルサイズ : {os.path.getsize(filename_input)} バイト')"
   ]
  },
  {
   "cell_type": "markdown",
   "metadata": {},
   "source": [
    "#### EXIFデータの閲覧"
   ]
  },
  {
   "cell_type": "code",
   "execution_count": 3,
   "metadata": {},
   "outputs": [
    {
     "name": "stdout",
     "output_type": "stream",
     "text": [
      "{36880: '+09:00',\n",
      " 36881: '+09:00',\n",
      " 36882: '+09:00',\n",
      " 'ApertureValue': (54823, 32325),\n",
      " 'BrightnessValue': (25925, 7588),\n",
      " 'ComponentsConfiguration': b'\\x01\\x02\\x03\\x00',\n",
      " 'DateTime': '2021:06:11 12:43:49',\n",
      " 'DateTimeDigitized': '2021:06:11 12:43:49',\n",
      " 'DateTimeOriginal': '2021:06:11 12:43:49',\n",
      " 'ExifImageHeight': 4032,\n",
      " 'ExifImageWidth': 3024,\n",
      " 'ExifOffset': 198,\n",
      " 'ExifVersion': b'0232',\n",
      " 'ExposureBiasValue': (0, 1),\n",
      " 'ExposureMode': 0,\n",
      " 'ExposureProgram': 2,\n",
      " 'ExposureTime': (1, 33),\n",
      " 'FNumber': (9, 5),\n",
      " 'Flash': 24,\n",
      " 'FlashPixVersion': b'0100',\n",
      " 'FocalLength': (399, 100),\n",
      " 'FocalLengthIn35mmFilm': 28,\n",
      " 'GPSInfo': {1: 'N',\n",
      "             2: ((35, 1), (40, 1), (5377, 100)),\n",
      "             3: 'E',\n",
      "             4: ((139, 1), (42, 1), (603, 100)),\n",
      "             5: b'\\x00',\n",
      "             6: (64703, 2196),\n",
      "             12: 'K',\n",
      "             13: (0, 1),\n",
      "             16: 'T',\n",
      "             17: (580006, 1947),\n",
      "             23: 'T',\n",
      "             24: (580006, 1947),\n",
      "             31: (65, 1)},\n",
      " 'ISOSpeedRatings': 40,\n",
      " 'LensMake': 'Apple',\n",
      " 'LensModel': 'iPhone 8 Plus back dual camera 3.99mm f/1.8',\n",
      " 'LensSpecification': ((4183519, 1048501), (33, 5), (9, 5), (14, 5)),\n",
      " 'Make': 'Apple',\n",
      " 'MakerNote': b'Apple iOS\\x00\\x00\\x01MM\\x00\\x1f\\x00\\x01\\x00\\t\\x00\\x00\\x00\\x01'\n",
      "              b'\\x00\\x00\\x00\\x0c\\x00\\x02\\x00\\x07\\x00\\x00\\x02.\\x00\\x00\\x01\\x88'\n",
      "              b'\\x00\\x03\\x00\\x07\\x00\\x00\\x00h\\x00\\x00\\x03\\xb6\\x00\\x04\\x00\\t'\n",
      "              b'\\x00\\x00\\x00\\x01\\x00\\x00\\x00\\x00\\x00\\x05\\x00\\t\\x00\\x00\\x00\\x01'\n",
      "              b'\\x00\\x00\\x00\\xb2\\x00\\x06\\x00\\t\\x00\\x00\\x00\\x01\\x00\\x00\\x00\\xa1'\n",
      "              b'\\x00\\x07\\x00\\t\\x00\\x00\\x00\\x01\\x00\\x00\\x00\\x01\\x00\\x08\\x00\\n'\n",
      "              b'\\x00\\x00\\x00\\x03\\x00\\x00\\x04\\x1e\\x00\\x0c\\x00\\n\\x00\\x00\\x00\\x02'\n",
      "              b'\\x00\\x00\\x046\\x00\\r\\x00\\t\\x00\\x00\\x00\\x01\\x00\\x00\\x00\\x1b'\n",
      "              b'\\x00\\x0e\\x00\\t\\x00\\x00\\x00\\x01\\x00\\x00\\x00\\x00\\x00\\x0f\\x00\\t'\n",
      "              b'\\x00\\x00\\x00\\x01\\x00\\x00\\x00\\x02\\x00\\x10\\x00\\t\\x00\\x00\\x00\\x01'\n",
      "              b'\\x00\\x00\\x00\\x01\\x00\\x14\\x00\\t\\x00\\x00\\x00\\x01\\x00\\x00\\x00\\x05'\n",
      "              b'\\x00\\x17\\x00\\t\\x00\\x00\\x00\\x01\\x00\\x00 \\x00\\x00\\x19\\x00\\t'\n",
      "              b'\\x00\\x00\\x00\\x01\\x00\\x00\\x00\\x00\\x00\\x1f\\x00\\t\\x00\\x00\\x00\\x01'\n",
      "              b'\\x00\\x00\\x00\\x00\\x00 \\x00\\x02\\x00\\x00\\x00%\\x00\\x00\\x04F'\n",
      "              b'\\x00!\\x00\\n\\x00\\x00\\x00\\x01\\x00\\x00\\x04l\\x00#\\x00\\t'\n",
      "              b'\\x00\\x00\\x00\\x02\\x00\\x00\\x04t\\x00%\\x00\\t\\x00\\x00\\x00\\x01'\n",
      "              b'\\x00\\x00\\x00\\x00\\x00&\\x00\\t\\x00\\x00\\x00\\x01\\x00\\x00\\x00\\x00'\n",
      "              b\"\\x00'\\x00\\n\\x00\\x00\\x00\\x01\\x00\\x00\\x04|\\x00+\\x00\\x02\"\n",
      "              b'\\x00\\x00\\x00%\\x00\\x00\\x04\\x84\\x00-\\x00\\t\\x00\\x00\\x00\\x01'\n",
      "              b'\\x00\\x00\\x10b\\x00.\\x00\\t\\x00\\x00\\x00\\x01\\x00\\x00\\x00\\x02'\n",
      "              b'\\x00/\\x00\\t\\x00\\x00\\x00\\x01\\x00\\x00\\x00D\\x006\\x00\\t'\n",
      "              b'\\x00\\x00\\x00\\x01\\x00\\x00\\x02\\xaa\\x007\\x00\\t\\x00\\x00\\x00\\x01'\n",
      "              b'\\x00\\x00\\x00\\x04\\x00;\\x00\\t\\x00\\x00\\x00\\x01\\x00\\x00\\x00\\x00'\n",
      "              b'\\x00<\\x00\\t\\x00\\x00\\x00\\x01\\x00\\x00\\x00\\x00\\x00\\x00\\x00\\x00bpli'\n",
      "              b'st00O\\x11\\x02\\x009\\x00i\\x00{\\x00\\x8f\\x00z\\x00\\xd4\\x00'\n",
      "              b'\\x8a\\x00\\x13\\x00F\\x00\\xca\\x00s\\x00\\x83\\x00\\\\\\x00J\\x00G\\x00<\\x00'\n",
      "              b'G\\x00>\\x00x\\x00Y\\x00a\\x00~\\x00]\\x001\\x00<\\x00\\xb6\\x00'\n",
      "              b'a\\x00\\x8a\\x00-\\x009\\x00U\\x00I\\x00\\x97\\x00e\\x01\\xbd\\x00K\\x00'\n",
      "              b'e\\x00_\\x00J\\x00t\\x00?\\x00I\\x00\\xb5\\x00u\\x00J\\x000\\x00+\\x00I\\x00'\n",
      "              b'\\xea\\x00\\xb2\\x012\\x01\\xff\\x00\\xa5\\x00I\\x00\\x83\\x00@\\x00'\n",
      "              b'-\\x00@\\x00\\xc9\\x005\\x00\\x17\\x00\"\\x00,\\x00>\\x00\\xfd\\x00c\\x01'\n",
      "              b'k\\x01*\\x01#\\x01/\\x01\\x8e\\x00\\'\\x00\"\\x00K\\x00\\x85\\x00\\x1b\\x00'\n",
      "              b'\\x10\\x00\\x1d\\x00)\\x00<\\x00\\xd7\\x00\\x9c\\x01\\x86\\x01`\\x01'\n",
      "              b'\\xdb\\x00L\\x01v\\x01\\xcb\\x00\\xbc\\x00T\\x00R\\x00\\x14\\x00'\n",
      "              b'\\x1b\\x00 \\x00$\\x00E\\x00/\\x01\\xe6\\x02\\xc7\\x01\\x10\\x02q\\x01/\\x01'\n",
      "              b'-\\x01\\x0b\\x01v\\x01Y\\x01g\\x00*\\x00\\x1b\\x00\\x1d\\x00\\x1f\\x00F\\x00'\n",
      "              b\"\\x99\\x01\\x8e\\x02\\x0b\\x02\\x98\\x01\\xba\\x01'\\x01\\xf7\\x00\\xce\\x00\"\n",
      "              b'/\\x011\\x01\\xb4\\x00@\\x00(\\x00\\x1d\\x00$\\x00v\\x00\\xc5\\x00\"\\x01'\n",
      "              b'P\\x01\\xe1\\x00\\xea\\x00\\xe0\\x00\\xbc\\x00\\xc8\\x00\\xd5\\x00\\xd5\\x00'\n",
      "              b'\\x9d\\x00[\\x002\\x00 \\x002\\x00\\x9f\\x00\\xa7\\x00\\x86\\x00'\n",
      "              b'\\x95\\x00\\x84\\x00p\\x00P\\x00F\\x009\\x009\\x005\\x00g\\x00\\x81\\x00'\n",
      "              b'C\\x00,\\x00[\\x00\\x94\\x00\\x8a\\x00\\x90\\x00\\x87\\x00\\x8b\\x00'\n",
      "              b'e\\x00V\\x00I\\x00}\\x00m\\x002\\x00m\\x00\\x80\\x00r\\x00>\\x00'\n",
      "              b'{\\x00\\x88\\x00\\xc5\\x00\\xb6\\x00\\x93\\x00u\\x00\\xbb\\x00m\\x00'\n",
      "              b';\\x00W\\x00T\\x00w\\x00l\\x00\\x7f\\x00\\x82\\x00~\\x00\\x7f\\x00\\x82\\x00'\n",
      "              b'\\xd3\\x00\\xb8\\x00s\\x00\\x81\\x00Q\\x00\\x89\\x00O\\x000\\x00*\\x00W\\x00'\n",
      "              b'\\xe5\\x00G\\x01\\xfc\\x00\\x84\\x00\\x80\\x00\\x84\\x00\\xe8\\x00\\xbe\\x00'\n",
      "              b'^\\x00\\x95\\x00P\\x00w\\x00\\x90\\x00y\\x00B\\x009\\x00\\xeb\\x00\\x96\\x01'\n",
      "              b'\\xe2\\x00k\\x00<\\x00\\x12\\x00\\x03\\x01\\x98\\x00\\xc2\\x00\\x7f\\x00'\n",
      "              b'e\\x00\\xa4\\x00\\x92\\x00\\xae\\x00\\x81\\x00}\\x00J\\x00\\x14\\x00'\n",
      "              b'\\x0f\\x00\\r\\x00\\n\\x00\\t\\x00\\r\\x01\\xab\\x00\\xe4\\x00\\xdd\\x00'\n",
      "              b'\\xb9\\x00\\x9f\\x00c\\x00\\x15\\x00\\n\\x00\\x0b\\x00\\x0b\\x00\\n\\x00'\n",
      "              b'\\x15\\x00\\\\\\x00\\xa0\\x00\\xd0\\x00\\x00\\x08\\x00\\x00\\x00\\x00\\x00\\x00'\n",
      "              b'\\x02\\x01\\x00\\x00\\x00\\x00\\x00\\x00\\x00\\x01\\x00\\x00'\n",
      "              b'\\x00\\x00\\x00\\x00\\x00\\x00\\x00\\x00\\x00\\x00\\x00\\x00\\x02\\x0cbplist'\n",
      "              b'00\\xd4\\x01\\x02\\x03\\x04\\x05\\x06\\x07\\x08UflagsUvalueYtimescaleUep'\n",
      "              b'och\\x10\\x01\\x13\\x00\\x02|\\\\6t\\x9f\\xe5\\x12;\\x9a\\xca\\x00\\x10'\n",
      "              b\"\\x00\\x08\\x11\\x17\\x1d'-/8=\\x00\\x00\\x00\\x00\\x00\\x00\"\n",
      "              b'\\x01\\x01\\x00\\x00\\x00\\x00\\x00\\x00\\x00\\t\\x00\\x00\\x00\\x00\\x00\\x00'\n",
      "              b'\\x00\\x00\\x00\\x00\\x00\\x00\\x00\\x00\\x00?\\xff\\xff\\xfa\\r\\x00\\x00'\n",
      "              b'O\\xee\\xff\\xff\\x96M\\x00\\x00\\x7f3\\xff\\xffb\\xab\\x00\\x01'\n",
      "              b'\\x15z\\x00\\x00\\x00\\x9d\\x00\\x00\\x01\\x00\\x00\\x00\\x00\\xc1\\x00\\x00'\n",
      "              b'\\x01\\x002F92DAFF-CC6C-46B9-9A4C-3D90CA62E81F\\x00\\x00'\n",
      "              b'\\x00\\x00\\x00\\x00\\x00\\x00\\x00\\x01\\x00\\x00\\x00\\x16 \\x00\\x00<'\n",
      "              b'\\x00\\x00\\x00\\x00\\x00\\x00\\x00\\x01E0F9C829-FE11-446C-A427-9780'\n",
      "              b'537E06D5\\x00\\x00',\n",
      " 'MeteringMode': 5,\n",
      " 'Model': 'iPhone 8 Plus',\n",
      " 'Orientation': 1,\n",
      " 'ResolutionUnit': 2,\n",
      " 'SceneCaptureType': 0,\n",
      " 'SceneType': b'\\x01',\n",
      " 'SensingMethod': 2,\n",
      " 'ShutterSpeedValue': (37195, 7351),\n",
      " 'Software': '14.4.2',\n",
      " 'SubjectLocation': (2015, 1511, 2217, 1330),\n",
      " 'SubsecTimeDigitized': '577',\n",
      " 'SubsecTimeOriginal': '577',\n",
      " 'WhiteBalance': 0,\n",
      " 'XResolution': (72, 1),\n",
      " 'YResolution': (72, 1)}\n"
     ]
    }
   ],
   "source": [
    "with Image.open(filename_input) as src:\n",
    "    try:\n",
    "        exif = src._getexif()\n",
    "        exif_table = {}\n",
    "        for tag_id, value in exif.items():\n",
    "            tag = TAGS.get(tag_id, tag_id)\n",
    "            exif_table[tag] = value\n",
    "        pprint(exif_table)\n",
    "    except AttributeError:\n",
    "        print('EXIF情報はありません')"
   ]
  },
  {
   "cell_type": "markdown",
   "metadata": {},
   "source": [
    "#### Orientationの取得"
   ]
  },
  {
   "cell_type": "code",
   "execution_count": 4,
   "metadata": {},
   "outputs": [
    {
     "name": "stdout",
     "output_type": "stream",
     "text": [
      "orientation : 1\n"
     ]
    }
   ],
   "source": [
    "with Image.open(filename_input) as src:\n",
    "    try:\n",
    "        exif = src._getexif()\n",
    "        orientation = exif.get(0x112, 1)\n",
    "        print(f'orientation : {orientation}')\n",
    "    except AttributeError:\n",
    "        print('EXIF情報はありません')"
   ]
  },
  {
   "cell_type": "code",
   "execution_count": 9,
   "metadata": {},
   "outputs": [
    {
     "name": "stdout",
     "output_type": "stream",
     "text": [
      "編集後の画像ファイルサイズ : 1254745\n"
     ]
    }
   ],
   "source": [
    "with Image.new(mode, size) as dst:\n",
    "    dst.putdata(data)\n",
    "    dst.save(filename_output)\n",
    "    print(f'編集後の画像ファイルサイズ : {os.path.getsize(filename_output)} バイト')"
   ]
  },
  {
   "cell_type": "markdown",
   "metadata": {},
   "source": [
    "## 回転"
   ]
  },
  {
   "cell_type": "code",
   "execution_count": 5,
   "metadata": {},
   "outputs": [],
   "source": [
    "convert_image = {\n",
    "    1: lambda img: img,\n",
    "    2: lambda img: img.transpose(Image.FLIP_LEFT_RIGHT),                           # 左右反転\n",
    "    3: lambda img: img.transpose(Image.ROTATE_180),                                  # 180度回転\n",
    "    4: lambda img: img.transpose(Image.FLIP_TOP_BOTTOM),                        # 上下反転\n",
    "    5: lambda img: img.transpose(Image.FLIP_LEFT_RIGHT).transpose(Pillow.ROTATE_90),  # 左右反転＆反時計回りに90度回転\n",
    "    6: lambda img: img.transpose(Image.ROTATE_270),                                  # 反時計回りに270度回転\n",
    "    7: lambda img: img.transpose(Image.FLIP_LEFT_RIGHT).transpose(Pillow.ROTATE_270), # 左右反転＆反時計回りに270度回転\n",
    "    8: lambda img: img.transpose(Image.ROTATE_90),                                    # 反時計回りに90度回転\n",
    "}"
   ]
  },
  {
   "cell_type": "markdown",
   "metadata": {},
   "source": [
    "## まとめ"
   ]
  },
  {
   "cell_type": "code",
   "execution_count": 6,
   "metadata": {},
   "outputs": [],
   "source": [
    "with Image.open(filename_input) as src:\n",
    "    data = src.getdata()\n",
    "    mode = src.mode\n",
    "    size = src.size\n",
    "    try:\n",
    "        exif = src._getexif()\n",
    "        orientation = exif.get(0x112, 1)\n",
    "    except AttributeError:\n",
    "        orientation = 1\n",
    "        print('EXIF情報はありません')\n",
    "        \n",
    "with Image.new(mode, size) as dst:\n",
    "    dst.putdata(data)\n",
    "    dst.save(filename_output)\n",
    "    \n",
    "with Image.open(filename_output) as img:\n",
    "    img_new = convert_image[orientation](img)\n",
    "    img_new.save(filename_output)"
   ]
  },
  {
   "cell_type": "code",
   "execution_count": 7,
   "metadata": {},
   "outputs": [
    {
     "name": "stdout",
     "output_type": "stream",
     "text": [
      "編集後の画像ファイルサイズ : 15173026 バイト\n"
     ]
    }
   ],
   "source": [
    "print(f'編集後の画像ファイルサイズ : {os.path.getsize(filename_output)} バイト')"
   ]
  }
 ],
 "metadata": {
  "kernelspec": {
   "display_name": "Python 3",
   "language": "python",
   "name": "python3"
  },
  "language_info": {
   "codemirror_mode": {
    "name": "ipython",
    "version": 3
   },
   "file_extension": ".py",
   "mimetype": "text/x-python",
   "name": "python",
   "nbconvert_exporter": "python",
   "pygments_lexer": "ipython3",
   "version": "3.6.3"
  }
 },
 "nbformat": 4,
 "nbformat_minor": 2
}
