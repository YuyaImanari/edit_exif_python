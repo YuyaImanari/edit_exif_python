{
 "cells": [
  {
   "cell_type": "markdown",
   "metadata": {},
   "source": [
    "## Pillow\n",
    "\n",
    "画像データのみを抜き出せる！"
   ]
  },
  {
   "cell_type": "code",
   "execution_count": null,
   "metadata": {},
   "outputs": [],
   "source": [
    "import os\n",
    "from pprint import pprint\n",
    "from PIL import Image\n",
    "from PIL.ExifTags import TAGS\n",
    "\n",
    "filename_input = 'image/pillow.png'\n",
    "filename_output = f'{os.path.splitext(filename_input)[0]}_out{os.path.splitext(filename_input)[1]}'"
   ]
  },
  {
   "cell_type": "markdown",
   "metadata": {},
   "source": [
    "### 画像の取得"
   ]
  },
  {
   "cell_type": "code",
   "execution_count": null,
   "metadata": {},
   "outputs": [],
   "source": [
    "with Image.open(filename_input) as src:\n",
    "    data = src.getdata()\n",
    "    mode = src.mode\n",
    "    size = src.size\n",
    "    print(f'元の画像ファイルサイズ : {os.path.getsize(filename_input)} バイト')"
   ]
  },
  {
   "cell_type": "markdown",
   "metadata": {},
   "source": [
    "#### EXIFデータの閲覧"
   ]
  },
  {
   "cell_type": "code",
   "execution_count": null,
   "metadata": {},
   "outputs": [],
   "source": [
    "with Image.open(filename_input) as src:\n",
    "    try:\n",
    "        exif = src._getexif()\n",
    "        exif_table = {}\n",
    "        for tag_id, value in exif.items():\n",
    "            tag = TAGS.get(tag_id, tag_id)\n",
    "            exif_table[tag] = value\n",
    "        pprint(exif_table)\n",
    "    except AttributeError:\n",
    "        print('EXIF情報はありません')"
   ]
  },
  {
   "cell_type": "markdown",
   "metadata": {},
   "source": [
    "#### Orientationの取得"
   ]
  },
  {
   "cell_type": "code",
   "execution_count": null,
   "metadata": {},
   "outputs": [],
   "source": [
    "with Image.open(filename_input) as src:\n",
    "    try:\n",
    "        exif = src._getexif()\n",
    "        orientation = exif.get(0x112, 1)\n",
    "        print(f'orientation : {orientation}')\n",
    "    except AttributeError:\n",
    "        print('EXIF情報はありません')"
   ]
  },
  {
   "cell_type": "code",
   "execution_count": null,
   "metadata": {},
   "outputs": [],
   "source": [
    "with Image.new(mode, size) as dst:\n",
    "    dst.putdata(data)\n",
    "    dst.save(filename_output)\n",
    "    print(f'編集後の画像ファイルサイズ : {os.path.getsize(filename_output)} バイト')"
   ]
  },
  {
   "cell_type": "markdown",
   "metadata": {},
   "source": [
    "## 回転"
   ]
  },
  {
   "cell_type": "code",
   "execution_count": null,
   "metadata": {},
   "outputs": [],
   "source": [
    "convert_image = {\n",
    "    1: lambda img: img,\n",
    "    2: lambda img: img.transpose(Image.FLIP_LEFT_RIGHT),                           # 左右反転\n",
    "    3: lambda img: img.transpose(Image.ROTATE_180),                                  # 180度回転\n",
    "    4: lambda img: img.transpose(Image.FLIP_TOP_BOTTOM),                        # 上下反転\n",
    "    5: lambda img: img.transpose(Image.FLIP_LEFT_RIGHT).transpose(Pillow.ROTATE_90),  # 左右反転＆反時計回りに90度回転\n",
    "    6: lambda img: img.transpose(Image.ROTATE_270),                                  # 反時計回りに270度回転\n",
    "    7: lambda img: img.transpose(Image.FLIP_LEFT_RIGHT).transpose(Pillow.ROTATE_270), # 左右反転＆反時計回りに270度回転\n",
    "    8: lambda img: img.transpose(Image.ROTATE_90),                                    # 反時計回りに90度回転\n",
    "}"
   ]
  },
  {
   "cell_type": "markdown",
   "metadata": {},
   "source": [
    "## まとめ"
   ]
  },
  {
   "cell_type": "code",
   "execution_count": null,
   "metadata": {},
   "outputs": [],
   "source": [
    "with Image.open(filename_input) as src:\n",
    "    data = src.getdata()\n",
    "    mode = src.mode\n",
    "    size = src.size\n",
    "    try:\n",
    "        exif = src._getexif()\n",
    "        orientation = exif.get(0x112, 1)\n",
    "    except AttributeError:\n",
    "        orientation = 1\n",
    "        print('EXIF情報はありません')\n",
    "        \n",
    "with Image.new(mode, size) as dst:\n",
    "    dst.putdata(data)\n",
    "    dst.save(filename_output)\n",
    "    \n",
    "with Image.open(filename_output) as img:\n",
    "    img_new = convert_image[orientation](img)\n",
    "    img_new.save(filename_output)"
   ]
  },
  {
   "cell_type": "code",
   "execution_count": null,
   "metadata": {},
   "outputs": [],
   "source": [
    "print(f'編集後の画像ファイルサイズ : {os.path.getsize(filename_output)} バイト')"
   ]
  }
 ],
 "metadata": {
  "kernelspec": {
   "display_name": "Python 3",
   "language": "python",
   "name": "python3"
  },
  "language_info": {
   "codemirror_mode": {
    "name": "ipython",
    "version": 3
   },
   "file_extension": ".py",
   "mimetype": "text/x-python",
   "name": "python",
   "nbconvert_exporter": "python",
   "pygments_lexer": "ipython3",
   "version": "3.6.3"
  }
 },
 "nbformat": 4,
 "nbformat_minor": 2
}
